{
 "cells": [
  {
   "cell_type": "code",
   "execution_count": 1,
   "id": "fc786f51",
   "metadata": {},
   "outputs": [],
   "source": [
    "# Import necessary libraries\n",
    "import pandas as pd\n",
    "import numpy as np\n",
    "import matplotlib.pyplot as plt\n",
    "import seaborn as sns\n",
    "import re\n",
    "import nltk\n",
    "from nltk.corpus import stopwords\n",
    "from nltk.stem import PorterStemmer\n",
    "from sklearn.feature_extraction.text import TfidfVectorizer\n",
    "from sklearn.naive_bayes import MultinomialNB\n",
    "from sklearn.linear_model import LogisticRegression\n",
    "from sklearn.svm import LinearSVC\n",
    "from sklearn.model_selection import GridSearchCV\n",
    "from sklearn.metrics import accuracy_score, f1_score, confusion_matrix"
   ]
  },
  {
   "cell_type": "code",
   "execution_count": 2,
   "id": "f489df94",
   "metadata": {},
   "outputs": [
    {
     "name": "stderr",
     "output_type": "stream",
     "text": [
      "C:\\Users\\91772\\AppData\\Local\\Temp\\ipykernel_12756\\3641231958.py:2: DtypeWarning: Columns (1,10) have mixed types. Specify dtype option on import or set low_memory=False.\n",
      "  data = pd.read_csv(\"1429_1.csv\")\n"
     ]
    }
   ],
   "source": [
    "# Load dataset\n",
    "data = pd.read_csv(\"1429_1.csv\")"
   ]
  },
  {
   "cell_type": "code",
   "execution_count": 3,
   "id": "594bb3f5",
   "metadata": {
    "scrolled": true
   },
   "outputs": [
    {
     "data": {
      "text/plain": [
       "Index(['id', 'name', 'asins', 'brand', 'categories', 'keys', 'manufacturer',\n",
       "       'reviews.date', 'reviews.dateAdded', 'reviews.dateSeen',\n",
       "       'reviews.didPurchase', 'reviews.doRecommend', 'reviews.id',\n",
       "       'reviews.numHelpful', 'reviews.rating', 'reviews.sourceURLs',\n",
       "       'reviews.text', 'reviews.title', 'reviews.userCity',\n",
       "       'reviews.userProvince', 'reviews.username'],\n",
       "      dtype='object')"
      ]
     },
     "execution_count": 3,
     "metadata": {},
     "output_type": "execute_result"
    }
   ],
   "source": [
    "data.columns"
   ]
  },
  {
   "cell_type": "code",
   "execution_count": 4,
   "id": "3c1c9336",
   "metadata": {},
   "outputs": [],
   "source": [
    "# Section 1: Data Preparation and Preprocessing\n",
    "# Remove irrelevant columns\n",
    "data.drop(['id', 'name', 'asins', 'brand', 'categories', 'keys', 'manufacturer',\n",
    "       'reviews.date', 'reviews.dateAdded', 'reviews.dateSeen',\n",
    "       'reviews.didPurchase', 'reviews.doRecommend', 'reviews.id',\n",
    "       'reviews.numHelpful', 'reviews.sourceURLs',\n",
    "        'reviews.title', 'reviews.userCity',\n",
    "       'reviews.userProvince', 'reviews.username'], axis=1, inplace=True)"
   ]
  },
  {
   "cell_type": "code",
   "execution_count": 5,
   "id": "20a32e8c",
   "metadata": {},
   "outputs": [
    {
     "data": {
      "text/html": [
       "<div>\n",
       "<style scoped>\n",
       "    .dataframe tbody tr th:only-of-type {\n",
       "        vertical-align: middle;\n",
       "    }\n",
       "\n",
       "    .dataframe tbody tr th {\n",
       "        vertical-align: top;\n",
       "    }\n",
       "\n",
       "    .dataframe thead th {\n",
       "        text-align: right;\n",
       "    }\n",
       "</style>\n",
       "<table border=\"1\" class=\"dataframe\">\n",
       "  <thead>\n",
       "    <tr style=\"text-align: right;\">\n",
       "      <th></th>\n",
       "      <th>reviews.rating</th>\n",
       "      <th>reviews.text</th>\n",
       "    </tr>\n",
       "  </thead>\n",
       "  <tbody>\n",
       "    <tr>\n",
       "      <th>11</th>\n",
       "      <td>5.0</td>\n",
       "      <td>Excellent product. Easy to use, large screen m...</td>\n",
       "    </tr>\n",
       "    <tr>\n",
       "      <th>12</th>\n",
       "      <td>4.0</td>\n",
       "      <td>Wanted my father to have his first tablet and ...</td>\n",
       "    </tr>\n",
       "    <tr>\n",
       "      <th>13</th>\n",
       "      <td>5.0</td>\n",
       "      <td>Simply does everything I need. Thank youAnd si...</td>\n",
       "    </tr>\n",
       "    <tr>\n",
       "      <th>14</th>\n",
       "      <td>5.0</td>\n",
       "      <td>Got it as a present and love the size of the s...</td>\n",
       "    </tr>\n",
       "    <tr>\n",
       "      <th>15</th>\n",
       "      <td>5.0</td>\n",
       "      <td>The kindle is easiest to use, graphics and scr...</td>\n",
       "    </tr>\n",
       "    <tr>\n",
       "      <th>...</th>\n",
       "      <td>...</td>\n",
       "      <td>...</td>\n",
       "    </tr>\n",
       "    <tr>\n",
       "      <th>34655</th>\n",
       "      <td>3.0</td>\n",
       "      <td>This is not appreciably faster than any other ...</td>\n",
       "    </tr>\n",
       "    <tr>\n",
       "      <th>34656</th>\n",
       "      <td>1.0</td>\n",
       "      <td>Amazon should include this charger with the Ki...</td>\n",
       "    </tr>\n",
       "    <tr>\n",
       "      <th>34657</th>\n",
       "      <td>1.0</td>\n",
       "      <td>Love my Kindle Fire but I am really disappoint...</td>\n",
       "    </tr>\n",
       "    <tr>\n",
       "      <th>34658</th>\n",
       "      <td>1.0</td>\n",
       "      <td>I was surprised to find it did not come with a...</td>\n",
       "    </tr>\n",
       "    <tr>\n",
       "      <th>34659</th>\n",
       "      <td>1.0</td>\n",
       "      <td>to spite the fact that i have nothing but good...</td>\n",
       "    </tr>\n",
       "  </tbody>\n",
       "</table>\n",
       "<p>34649 rows × 2 columns</p>\n",
       "</div>"
      ],
      "text/plain": [
       "       reviews.rating                                       reviews.text\n",
       "11                5.0  Excellent product. Easy to use, large screen m...\n",
       "12                4.0  Wanted my father to have his first tablet and ...\n",
       "13                5.0  Simply does everything I need. Thank youAnd si...\n",
       "14                5.0  Got it as a present and love the size of the s...\n",
       "15                5.0  The kindle is easiest to use, graphics and scr...\n",
       "...               ...                                                ...\n",
       "34655             3.0  This is not appreciably faster than any other ...\n",
       "34656             1.0  Amazon should include this charger with the Ki...\n",
       "34657             1.0  Love my Kindle Fire but I am really disappoint...\n",
       "34658             1.0  I was surprised to find it did not come with a...\n",
       "34659             1.0  to spite the fact that i have nothing but good...\n",
       "\n",
       "[34649 rows x 2 columns]"
      ]
     },
     "execution_count": 5,
     "metadata": {},
     "output_type": "execute_result"
    }
   ],
   "source": [
    "data[11:]"
   ]
  },
  {
   "cell_type": "code",
   "execution_count": 6,
   "id": "aabb78e3",
   "metadata": {},
   "outputs": [],
   "source": [
    "data['reviews.rating']=data['reviews.rating'].replace([1,2,3], 0)\n",
    "data['reviews.rating'] = data['reviews.rating'].replace([4,5], 1)"
   ]
  },
  {
   "cell_type": "code",
   "execution_count": 7,
   "id": "ae4443dc",
   "metadata": {},
   "outputs": [
    {
     "data": {
      "text/html": [
       "<div>\n",
       "<style scoped>\n",
       "    .dataframe tbody tr th:only-of-type {\n",
       "        vertical-align: middle;\n",
       "    }\n",
       "\n",
       "    .dataframe tbody tr th {\n",
       "        vertical-align: top;\n",
       "    }\n",
       "\n",
       "    .dataframe thead th {\n",
       "        text-align: right;\n",
       "    }\n",
       "</style>\n",
       "<table border=\"1\" class=\"dataframe\">\n",
       "  <thead>\n",
       "    <tr style=\"text-align: right;\">\n",
       "      <th></th>\n",
       "      <th>reviews.rating</th>\n",
       "      <th>reviews.text</th>\n",
       "    </tr>\n",
       "  </thead>\n",
       "  <tbody>\n",
       "    <tr>\n",
       "      <th>0</th>\n",
       "      <td>1.0</td>\n",
       "      <td>This product so far has not disappointed. My c...</td>\n",
       "    </tr>\n",
       "    <tr>\n",
       "      <th>1</th>\n",
       "      <td>1.0</td>\n",
       "      <td>great for beginner or experienced person. Boug...</td>\n",
       "    </tr>\n",
       "    <tr>\n",
       "      <th>2</th>\n",
       "      <td>1.0</td>\n",
       "      <td>Inexpensive tablet for him to use and learn on...</td>\n",
       "    </tr>\n",
       "    <tr>\n",
       "      <th>3</th>\n",
       "      <td>1.0</td>\n",
       "      <td>I've had my Fire HD 8 two weeks now and I love...</td>\n",
       "    </tr>\n",
       "    <tr>\n",
       "      <th>4</th>\n",
       "      <td>1.0</td>\n",
       "      <td>I bought this for my grand daughter when she c...</td>\n",
       "    </tr>\n",
       "  </tbody>\n",
       "</table>\n",
       "</div>"
      ],
      "text/plain": [
       "   reviews.rating                                       reviews.text\n",
       "0             1.0  This product so far has not disappointed. My c...\n",
       "1             1.0  great for beginner or experienced person. Boug...\n",
       "2             1.0  Inexpensive tablet for him to use and learn on...\n",
       "3             1.0  I've had my Fire HD 8 two weeks now and I love...\n",
       "4             1.0  I bought this for my grand daughter when she c..."
      ]
     },
     "execution_count": 7,
     "metadata": {},
     "output_type": "execute_result"
    }
   ],
   "source": [
    "data.head()"
   ]
  },
  {
   "cell_type": "code",
   "execution_count": 8,
   "id": "450c2e61",
   "metadata": {},
   "outputs": [],
   "source": [
    "# Remove duplicates\n",
    "data['Text'] = data['reviews.text']\n",
    "data.drop_duplicates(subset=['Text'], inplace=True)"
   ]
  },
  {
   "cell_type": "code",
   "execution_count": 9,
   "id": "79897bd7",
   "metadata": {},
   "outputs": [],
   "source": [
    "# Remove non-alphanumeric characters and convert to lowercase\n",
    "data['Text'] = data['Text'].apply(lambda x: re.sub(r'[^\\w\\s]', '', str(x).lower()))"
   ]
  },
  {
   "cell_type": "code",
   "execution_count": 10,
   "id": "e305cc0b",
   "metadata": {},
   "outputs": [],
   "source": [
    "# Remove stop words\n",
    "stop_words = stopwords.words('english')\n",
    "data['Text'] = data['Text'].apply(lambda x: ' '.join([word for word in x.split() if word not in stop_words]))"
   ]
  },
  {
   "cell_type": "code",
   "execution_count": 11,
   "id": "21499a06",
   "metadata": {},
   "outputs": [],
   "source": [
    "# Stem the words\n",
    "stemmer = PorterStemmer()\n",
    "data['Text'] = data['Text'].apply(lambda x: ' '.join([stemmer.stem(word) for word in x.split()]))"
   ]
  },
  {
   "cell_type": "code",
   "execution_count": 12,
   "id": "4f8e7f9d",
   "metadata": {},
   "outputs": [
    {
     "data": {
      "text/html": [
       "<div>\n",
       "<style scoped>\n",
       "    .dataframe tbody tr th:only-of-type {\n",
       "        vertical-align: middle;\n",
       "    }\n",
       "\n",
       "    .dataframe tbody tr th {\n",
       "        vertical-align: top;\n",
       "    }\n",
       "\n",
       "    .dataframe thead th {\n",
       "        text-align: right;\n",
       "    }\n",
       "</style>\n",
       "<table border=\"1\" class=\"dataframe\">\n",
       "  <thead>\n",
       "    <tr style=\"text-align: right;\">\n",
       "      <th></th>\n",
       "      <th>reviews.rating</th>\n",
       "      <th>reviews.text</th>\n",
       "      <th>Text</th>\n",
       "    </tr>\n",
       "  </thead>\n",
       "  <tbody>\n",
       "    <tr>\n",
       "      <th>0</th>\n",
       "      <td>1.0</td>\n",
       "      <td>This product so far has not disappointed. My c...</td>\n",
       "      <td>product far disappoint children love use like ...</td>\n",
       "    </tr>\n",
       "    <tr>\n",
       "      <th>1</th>\n",
       "      <td>1.0</td>\n",
       "      <td>great for beginner or experienced person. Boug...</td>\n",
       "      <td>great beginn experienc person bought gift love</td>\n",
       "    </tr>\n",
       "    <tr>\n",
       "      <th>2</th>\n",
       "      <td>1.0</td>\n",
       "      <td>Inexpensive tablet for him to use and learn on...</td>\n",
       "      <td>inexpens tablet use learn step nabi thrill lea...</td>\n",
       "    </tr>\n",
       "    <tr>\n",
       "      <th>3</th>\n",
       "      <td>1.0</td>\n",
       "      <td>I've had my Fire HD 8 two weeks now and I love...</td>\n",
       "      <td>ive fire hd 8 two week love tablet great value...</td>\n",
       "    </tr>\n",
       "    <tr>\n",
       "      <th>4</th>\n",
       "      <td>1.0</td>\n",
       "      <td>I bought this for my grand daughter when she c...</td>\n",
       "      <td>bought grand daughter come visit set user ente...</td>\n",
       "    </tr>\n",
       "  </tbody>\n",
       "</table>\n",
       "</div>"
      ],
      "text/plain": [
       "   reviews.rating                                       reviews.text  \\\n",
       "0             1.0  This product so far has not disappointed. My c...   \n",
       "1             1.0  great for beginner or experienced person. Boug...   \n",
       "2             1.0  Inexpensive tablet for him to use and learn on...   \n",
       "3             1.0  I've had my Fire HD 8 two weeks now and I love...   \n",
       "4             1.0  I bought this for my grand daughter when she c...   \n",
       "\n",
       "                                                Text  \n",
       "0  product far disappoint children love use like ...  \n",
       "1     great beginn experienc person bought gift love  \n",
       "2  inexpens tablet use learn step nabi thrill lea...  \n",
       "3  ive fire hd 8 two week love tablet great value...  \n",
       "4  bought grand daughter come visit set user ente...  "
      ]
     },
     "execution_count": 12,
     "metadata": {},
     "output_type": "execute_result"
    }
   ],
   "source": [
    "data.head()"
   ]
  },
  {
   "cell_type": "code",
   "execution_count": 13,
   "id": "2fe0493e",
   "metadata": {},
   "outputs": [
    {
     "data": {
      "text/plain": [
       "<AxesSubplot:xlabel='reviews.rating', ylabel='count'>"
      ]
     },
     "execution_count": 13,
     "metadata": {},
     "output_type": "execute_result"
    },
    {
     "data": {
      "image/png": "[encoded data removed]",
      "text/plain": [
       "<Figure size 640x480 with 1 Axes>"
      ]
     },
     "metadata": {},
     "output_type": "display_data"
    }
   ],
   "source": [
    "# Section 2: Exploratory Data Analysis (EDA)\n",
    "# Analyze the distribution of ratings and sentiments in the dataset\n",
    "\n",
    "sns.countplot(x='reviews.rating', data=data)"
   ]
  },
  {
   "cell_type": "code",
   "execution_count": 14,
   "id": "df380f5d",
   "metadata": {},
   "outputs": [
    {
     "name": "stdout",
     "output_type": "stream",
     "text": [
      "Mean Score: 0.9332601726976059\n",
      "Median Score: 1.0\n",
      "Mode Score: 0    1.0\n",
      "Name: Score, dtype: float64\n"
     ]
    }
   ],
   "source": [
    "# Perform statistical analysis such as mean, median, and mode of ratings\n",
    "data['Score'] = data['reviews.rating']\n",
    "print('Mean Score:', data['Score'].mean())\n",
    "print('Median Score:', data['Score'].median())\n",
    "print('Mode Score:', data['Score'].mode())"
   ]
  },
  {
   "cell_type": "code",
   "execution_count": 15,
   "id": "3280b89e",
   "metadata": {},
   "outputs": [],
   "source": [
    "data = data.drop(['reviews.text'],axis =1)"
   ]
  },
  {
   "cell_type": "code",
   "execution_count": 16,
   "id": "4794fef0",
   "metadata": {},
   "outputs": [],
   "source": [
    "data = data.dropna()"
   ]
  },
  {
   "cell_type": "code",
   "execution_count": 17,
   "id": "84de79f8",
   "metadata": {},
   "outputs": [
    {
     "data": {
      "text/html": [
       "<div>\n",
       "<style scoped>\n",
       "    .dataframe tbody tr th:only-of-type {\n",
       "        vertical-align: middle;\n",
       "    }\n",
       "\n",
       "    .dataframe tbody tr th {\n",
       "        vertical-align: top;\n",
       "    }\n",
       "\n",
       "    .dataframe thead th {\n",
       "        text-align: right;\n",
       "    }\n",
       "</style>\n",
       "<table border=\"1\" class=\"dataframe\">\n",
       "  <thead>\n",
       "    <tr style=\"text-align: right;\">\n",
       "      <th></th>\n",
       "      <th>reviews.rating</th>\n",
       "      <th>Text</th>\n",
       "      <th>Score</th>\n",
       "    </tr>\n",
       "  </thead>\n",
       "  <tbody>\n",
       "    <tr>\n",
       "      <th>0</th>\n",
       "      <td>1.0</td>\n",
       "      <td>product far disappoint children love use like ...</td>\n",
       "      <td>1.0</td>\n",
       "    </tr>\n",
       "    <tr>\n",
       "      <th>1</th>\n",
       "      <td>1.0</td>\n",
       "      <td>great beginn experienc person bought gift love</td>\n",
       "      <td>1.0</td>\n",
       "    </tr>\n",
       "    <tr>\n",
       "      <th>2</th>\n",
       "      <td>1.0</td>\n",
       "      <td>inexpens tablet use learn step nabi thrill lea...</td>\n",
       "      <td>1.0</td>\n",
       "    </tr>\n",
       "    <tr>\n",
       "      <th>3</th>\n",
       "      <td>1.0</td>\n",
       "      <td>ive fire hd 8 two week love tablet great value...</td>\n",
       "      <td>1.0</td>\n",
       "    </tr>\n",
       "    <tr>\n",
       "      <th>4</th>\n",
       "      <td>1.0</td>\n",
       "      <td>bought grand daughter come visit set user ente...</td>\n",
       "      <td>1.0</td>\n",
       "    </tr>\n",
       "  </tbody>\n",
       "</table>\n",
       "</div>"
      ],
      "text/plain": [
       "   reviews.rating                                               Text  Score\n",
       "0             1.0  product far disappoint children love use like ...    1.0\n",
       "1             1.0     great beginn experienc person bought gift love    1.0\n",
       "2             1.0  inexpens tablet use learn step nabi thrill lea...    1.0\n",
       "3             1.0  ive fire hd 8 two week love tablet great value...    1.0\n",
       "4             1.0  bought grand daughter come visit set user ente...    1.0"
      ]
     },
     "execution_count": 17,
     "metadata": {},
     "output_type": "execute_result"
    }
   ],
   "source": [
    "data.head()"
   ]
  },
  {
   "cell_type": "code",
   "execution_count": 18,
   "id": "7df60eaa",
   "metadata": {},
   "outputs": [],
   "source": [
    "x = data['Text']\n",
    "y = data['Score']"
   ]
  },
  {
   "cell_type": "code",
   "execution_count": 19,
   "id": "7640302b",
   "metadata": {},
   "outputs": [],
   "source": [
    "from sklearn.model_selection import train_test_split\n",
    "\n",
    "x_train,x_test,y_train,y_test = train_test_split(x,y, random_state = 42, test_size=0.2)"
   ]
  },
  {
   "cell_type": "code",
   "execution_count": 20,
   "id": "214ad0fe",
   "metadata": {},
   "outputs": [],
   "source": [
    "from sklearn.feature_extraction.text import TfidfVectorizer"
   ]
  },
  {
   "cell_type": "code",
   "execution_count": 21,
   "id": "cee426e7",
   "metadata": {},
   "outputs": [],
   "source": [
    "v = TfidfVectorizer()"
   ]
  },
  {
   "cell_type": "code",
   "execution_count": 22,
   "id": "eab0bdc5",
   "metadata": {},
   "outputs": [],
   "source": [
    "x_train_cv = v.fit_transform(x_train)"
   ]
  },
  {
   "cell_type": "code",
   "execution_count": 23,
   "id": "cbced589",
   "metadata": {},
   "outputs": [
    {
     "data": {
      "text/plain": [
       "<27701x12213 sparse matrix of type '<class 'numpy.float64'>'\n",
       "\twith 385278 stored elements in Compressed Sparse Row format>"
      ]
     },
     "execution_count": 23,
     "metadata": {},
     "output_type": "execute_result"
    }
   ],
   "source": [
    "x_train_cv"
   ]
  },
  {
   "cell_type": "code",
   "execution_count": 24,
   "id": "43dc977b",
   "metadata": {},
   "outputs": [
    {
     "data": {
      "text/plain": [
       "reviews.rating    0\n",
       "Text              0\n",
       "Score             0\n",
       "dtype: int64"
      ]
     },
     "execution_count": 24,
     "metadata": {},
     "output_type": "execute_result"
    }
   ],
   "source": [
    "data.isnull().sum()"
   ]
  },
  {
   "cell_type": "code",
   "execution_count": 25,
   "id": "6507a551",
   "metadata": {},
   "outputs": [],
   "source": [
    "x_train_np = x_train_cv.toarray()"
   ]
  },
  {
   "cell_type": "code",
   "execution_count": 26,
   "id": "701c12fe",
   "metadata": {},
   "outputs": [
    {
     "data": {
      "text/plain": [
       "(12213,)"
      ]
     },
     "execution_count": 26,
     "metadata": {},
     "output_type": "execute_result"
    }
   ],
   "source": [
    "v.get_feature_names_out().shape"
   ]
  },
  {
   "cell_type": "code",
   "execution_count": 27,
   "id": "05f22ef1",
   "metadata": {},
   "outputs": [],
   "source": [
    "from sklearn.naive_bayes import MultinomialNB"
   ]
  },
  {
   "cell_type": "code",
   "execution_count": 28,
   "id": "f5589220",
   "metadata": {},
   "outputs": [],
   "source": [
    "model =MultinomialNB()"
   ]
  },
  {
   "cell_type": "code",
   "execution_count": 29,
   "id": "064db79e",
   "metadata": {},
   "outputs": [
    {
     "data": {
      "text/plain": [
       "MultinomialNB()"
      ]
     },
     "execution_count": 29,
     "metadata": {},
     "output_type": "execute_result"
    }
   ],
   "source": [
    "model.fit(x_train_cv,y_train)"
   ]
  },
  {
   "cell_type": "code",
   "execution_count": 30,
   "id": "7da40a81",
   "metadata": {},
   "outputs": [],
   "source": [
    "x_test_cv= v.transform(x_test)"
   ]
  },
  {
   "cell_type": "code",
   "execution_count": 31,
   "id": "410939e2",
   "metadata": {},
   "outputs": [],
   "source": [
    "from sklearn.metrics import classification_report"
   ]
  },
  {
   "cell_type": "code",
   "execution_count": 32,
   "id": "be4e7643",
   "metadata": {},
   "outputs": [],
   "source": [
    "y_pred =model.predict(x_test_cv)"
   ]
  },
  {
   "cell_type": "code",
   "execution_count": 33,
   "id": "b4a8e0bd",
   "metadata": {},
   "outputs": [
    {
     "data": {
      "text/plain": [
       "array([1., 1., 1., ..., 1., 1., 1.])"
      ]
     },
     "execution_count": 33,
     "metadata": {},
     "output_type": "execute_result"
    }
   ],
   "source": [
    "y_pred"
   ]
  },
  {
   "cell_type": "code",
   "execution_count": 34,
   "id": "26ba0c49",
   "metadata": {},
   "outputs": [
    {
     "name": "stdout",
     "output_type": "stream",
     "text": [
      "              precision    recall  f1-score   support\n",
      "\n",
      "         0.0       0.00      0.00      0.00       472\n",
      "         1.0       0.93      1.00      0.96      6454\n",
      "\n",
      "    accuracy                           0.93      6926\n",
      "   macro avg       0.47      0.50      0.48      6926\n",
      "weighted avg       0.87      0.93      0.90      6926\n",
      "\n"
     ]
    }
   ],
   "source": [
    "print(classification_report(y_test,y_pred))"
   ]
  },
  {
   "cell_type": "code",
   "execution_count": 35,
   "id": "36ee5480",
   "metadata": {},
   "outputs": [],
   "source": [
    "from sklearn.linear_model import LogisticRegression\n",
    "model2 = LogisticRegression()"
   ]
  },
  {
   "cell_type": "code",
   "execution_count": 36,
   "id": "5cd6de3a",
   "metadata": {},
   "outputs": [
    {
     "data": {
      "text/plain": [
       "array([1., 1., 1., ..., 1., 1., 1.])"
      ]
     },
     "execution_count": 36,
     "metadata": {},
     "output_type": "execute_result"
    }
   ],
   "source": [
    "model2.fit(x_train_cv,y_train)\n",
    "y_pred =model2.predict(x_test_cv)\n",
    "y_pred"
   ]
  },
  {
   "cell_type": "code",
   "execution_count": 37,
   "id": "eb68ca26",
   "metadata": {},
   "outputs": [
    {
     "name": "stdout",
     "output_type": "stream",
     "text": [
      "              precision    recall  f1-score   support\n",
      "\n",
      "         0.0       0.77      0.17      0.27       472\n",
      "         1.0       0.94      1.00      0.97      6454\n",
      "\n",
      "    accuracy                           0.94      6926\n",
      "   macro avg       0.86      0.58      0.62      6926\n",
      "weighted avg       0.93      0.94      0.92      6926\n",
      "\n"
     ]
    }
   ],
   "source": [
    "print(classification_report(y_test,y_pred))"
   ]
  },
  {
   "cell_type": "code",
   "execution_count": 38,
   "id": "1363a0fb",
   "metadata": {},
   "outputs": [
    {
     "data": {
      "text/plain": [
       "array([1.])"
      ]
     },
     "execution_count": 38,
     "metadata": {},
     "output_type": "execute_result"
    }
   ],
   "source": [
    "sd = ['dispointed']\n",
    "sd =v.transform(sd)\n",
    "model2.predict(sd)"
   ]
  },
  {
   "cell_type": "code",
   "execution_count": null,
   "id": "76b92d1a",
   "metadata": {},
   "outputs": [],
   "source": []
  }
 ],
 "metadata": {
  "kernelspec": {
   "display_name": "Python 3 (ipykernel)",
   "language": "python",
   "name": "python3"
  },
  "language_info": {
   "codemirror_mode": {
    "name": "ipython",
    "version": 3
   },
   "file_extension": ".py",
   "mimetype": "text/x-python",
   "name": "python",
   "nbconvert_exporter": "python",
   "pygments_lexer": "ipython3",
   "version": "3.9.13"
  }
 },
 "nbformat": 4,
 "nbformat_minor": 5
}
